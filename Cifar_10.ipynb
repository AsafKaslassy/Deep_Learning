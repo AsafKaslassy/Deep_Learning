{
  "nbformat": 4,
  "nbformat_minor": 0,
  "metadata": {
    "kernelspec": {
      "display_name": "Python 3",
      "language": "python",
      "name": "python3"
    },
    "language_info": {
      "codemirror_mode": {
        "name": "ipython",
        "version": 3
      },
      "file_extension": ".py",
      "mimetype": "text/x-python",
      "name": "python",
      "nbconvert_exporter": "python",
      "pygments_lexer": "ipython3",
      "version": "3.6.9"
    },
    "colab": {
      "name": "EX2_06_01_2020.ipynb",
      "provenance": [],
      "collapsed_sections": [],
      "include_colab_link": true
    }
  },
  "cells": [
    {
      "cell_type": "markdown",
      "metadata": {
        "id": "view-in-github",
        "colab_type": "text"
      },
      "source": [
        "<a href=\"https://colab.research.google.com/github/AsafKaslassy/FashionMnist_CNN/blob/master/Cifar_10.ipynb\" target=\"_parent\"><img src=\"https://colab.research.google.com/assets/colab-badge.svg\" alt=\"Open In Colab\"/></a>"
      ]
    },
    {
      "cell_type": "markdown",
      "metadata": {
        "id": "FfXgbTmxzDt3",
        "colab_type": "text"
      },
      "source": [
        "# Tutorial No. 2"
      ]
    },
    {
      "cell_type": "markdown",
      "metadata": {
        "id": "_49p8HmLzDt4",
        "colab_type": "text"
      },
      "source": [
        "## 1. Import Packages"
      ]
    },
    {
      "cell_type": "code",
      "metadata": {
        "id": "AMF9haCszDt5",
        "colab_type": "code",
        "colab": {}
      },
      "source": [
        "#from keras.datasets import fashion_mnist\n",
        "from keras.datasets import cifar10\n",
        "\n",
        "from tensorflow.keras.models import Model, Sequential\n",
        "from tensorflow.keras.layers import Input, Conv2D, MaxPooling2D, Flatten, Dense\n",
        "from keras.utils import to_categorical\n",
        "from keras import optimizers\n",
        "import matplotlib.pyplot as plt\n",
        "from sklearn.metrics import confusion_matrix\n",
        "# from plot_confusion_matrix import plot_confusion_matrix\n",
        "import numpy as np\n",
        "\n",
        "# Deal with Over-Fitting\n",
        "from tensorflow.keras.layers import Dropout, BatchNormalization\n",
        "from tensorflow.keras.callbacks import EarlyStopping\n",
        "\n",
        "# Augmentaion\n",
        "from keras.preprocessing.image import ImageDataGenerator\n"
      ],
      "execution_count": 0,
      "outputs": []
    },
    {
      "cell_type": "markdown",
      "metadata": {
        "id": "jlgKGAl6zDt6",
        "colab_type": "text"
      },
      "source": [
        "## 2. Load Data"
      ]
    },
    {
      "cell_type": "code",
      "metadata": {
        "id": "MBjda3YNzDt7",
        "colab_type": "code",
        "colab": {
          "base_uri": "https://localhost:8080/",
          "height": 84
        },
        "outputId": "8ef4d42e-aa16-4709-9533-2c0cc7c85d50"
      },
      "source": [
        "#(x_train, y_train), (x_test, y_test) = fashion_mnist.load_data()\n",
        "(x_train, y_train), (x_test, y_test) = cifar10.load_data()\n",
        "# Remove images to get smaller dataset\n",
        "x_train = x_train[:1000,:,:]\n",
        "y_train = y_train[:1000]\n",
        "x_test = x_test[:500,:,:]\n",
        "y_test = y_test[:500]\n",
        "\n",
        "# Change the shape to (n_clss)x(Height)x(Weight)x(channels)\n",
        "#x_train = np.expand_dims(x_train, axis=3)\n",
        "#x_test =  np.expand_dims(x_test, axis=3)\n",
        "\n",
        "# Change labels to one-hot encoding\n",
        "y_train = to_categorical(y_train)\n",
        "y_test = to_categorical(y_test)\n",
        "\n",
        "# Print shapes\n",
        "print('x_train shape:', x_train.shape)\n",
        "print('x_test shape:', x_test.shape)\n",
        "print('y_train shape:', y_train.shape)\n",
        "print('y_test shape:', y_test.shape)\n"
      ],
      "execution_count": 118,
      "outputs": [
        {
          "output_type": "stream",
          "text": [
            "x_train shape: (1000, 32, 32, 3)\n",
            "x_test shape: (500, 32, 32, 3)\n",
            "y_train shape: (1000, 10)\n",
            "y_test shape: (500, 10)\n"
          ],
          "name": "stdout"
        }
      ]
    },
    {
      "cell_type": "markdown",
      "metadata": {
        "id": "d9MyuQByzDt9",
        "colab_type": "text"
      },
      "source": [
        "## 3. Define Parameters "
      ]
    },
    {
      "cell_type": "code",
      "metadata": {
        "id": "P9RMsA1nzDt-",
        "colab_type": "code",
        "colab": {}
      },
      "source": [
        "num_of_clss = 10           # number of classes\n",
        "lr =          1e-7         # learning rate \n",
        "beta_1 =      0.9          # beta 1 - for adam optimizer\n",
        "beta_2 =      0.95         # beta 2 - for adam optimizer\n",
        "epsilon =     1e-6         # epsilon - for adam optimizer\n",
        "epochs =      80           # number of epochs \n",
        "bs =          128           # batch size\n",
        "dp =          0.01          # dropout probability\n",
        "\n",
        "# steps_per_epoch = len((x_train)/bs)*2\n",
        "steps_per_epoch = 10"
      ],
      "execution_count": 0,
      "outputs": []
    },
    {
      "cell_type": "markdown",
      "metadata": {
        "id": "_YGILJ6ozDt_",
        "colab_type": "text"
      },
      "source": [
        "## 4. Build CNN Model"
      ]
    },
    {
      "cell_type": "code",
      "metadata": {
        "id": "f1v9_Dv7zDuA",
        "colab_type": "code",
        "colab": {}
      },
      "source": [
        "inp = Input(shape = (x_train.shape[1],x_train.shape[2],x_train.shape[3]))\n",
        "\n",
        "# First conv block\n",
        "x = Conv2D(64, (3, 3), strides=(1, 1), padding='same', activation = 'relu')(inp)\n",
        "x = BatchNormalization()(x)\n",
        "x = MaxPooling2D((2, 2))(x)\n",
        "\n",
        "# Second conv block\n",
        "x = Conv2D(32, (3, 3), strides=(1, 1), padding='same', activation = 'relu')(x)\n",
        "# x = Conv2D(32, (3, 3), strides=(1, 1), padding='same', activation = 'relu')(x)\n",
        "x = BatchNormalization()(x)\n",
        "x = MaxPooling2D((2, 2))(x)\n",
        "x = Dropout(dp)(x)\n",
        "\n",
        "# Third conv block\n",
        "x = Conv2D(16, (3, 3), strides=(1, 1), padding='same', activation = 'relu')(x)\n",
        "# x = Conv2D(16, (3, 3), strides=(1, 1), padding='same', activation = 'relu')(x)\n",
        "# x = Conv2D(16, (3, 3), strides=(1, 1), padding='same', activation = 'relu')(x)\n",
        "x = BatchNormalization()(x)\n",
        "x = MaxPooling2D((2, 2))(x)\n",
        "\n",
        "# FC layers\n",
        "x = Flatten()(x)\n",
        "x = Dense(15, activation = 'sigmoid')(x)\n",
        "x = BatchNormalization()(x)\n",
        "x = Dropout(dp)(x)\n",
        "out = Dense(num_of_clss, activation = 'softmax')(x)\n",
        "\n",
        "model = Model(inp,out)\n"
      ],
      "execution_count": 0,
      "outputs": []
    },
    {
      "cell_type": "markdown",
      "metadata": {
        "id": "Xnv-fpIKzDuB",
        "colab_type": "text"
      },
      "source": [
        "## 5. Apply Augmentation"
      ]
    },
    {
      "cell_type": "code",
      "metadata": {
        "id": "V80IsodRzDuC",
        "colab_type": "code",
        "colab": {
          "base_uri": "https://localhost:8080/",
          "height": 268
        },
        "outputId": "c3aa18ac-fc79-4f02-beaf-2401a4dd25ca"
      },
      "source": [
        "# Define wanted augmentation\n",
        "datagen = ImageDataGenerator(\n",
        "    validation_split=0.3,\n",
        "    rotation_range=10,\n",
        "    width_shift_range=0.2,\n",
        "    height_shift_range=0.2,\n",
        "    horizontal_flip=True)\n",
        "\n",
        "# Fit on our train set\n",
        "datagen.fit(x_train)\n",
        "\n",
        "# Visualize the augmentation\n",
        "# configure batch size and retrieve one batch of images\n",
        "# for x_batch, y_batch in datagen.flow(x_train, y_train, batch_size=9):\n",
        "#     # create a grid of 3x3 images\n",
        "#     for i in range(0, 9):\n",
        "#         plt.subplot(330 + 1 + i)\n",
        "#         plt.imshow(x_batch[i].reshape(28, 28), cmap=plt.get_cmap('gray'))\n",
        "#     # show the plot\n",
        "#     plt.show()\n",
        "#     break\n",
        "\n",
        "for x_batch, y_batch in datagen.flow(x_train, y_train, batch_size=9):\n",
        "    # create a grid of 3x3 images\n",
        "    for i in range(0, 9):\n",
        "        plt.subplot(330 + 1 + i)\n",
        "        #plt.imshow(x_batch[i].reshape(28, 28), cmap=plt.get_cmap('gray'))\n",
        "        plt.imshow(x_batch[i].astype('uint8')) #.shape\n",
        "    # show the plot\n",
        "    plt.show()\n",
        "    break\n"
      ],
      "execution_count": 121,
      "outputs": [
        {
          "output_type": "display_data",
          "data": {
            "image/png": "[encoded data removed]",
            "text/plain": [
              "<Figure size 432x288 with 9 Axes>"
            ]
          },
          "metadata": {
            "tags": []
          }
        }
      ]
    },
    {
      "cell_type": "markdown",
      "metadata": {
        "id": "UVLNwrT1zDuE",
        "colab_type": "text"
      },
      "source": [
        "##  6. Compile the Model"
      ]
    },
    {
      "cell_type": "code",
      "metadata": {
        "id": "DVYGtu96zDuE",
        "colab_type": "code",
        "colab": {}
      },
      "source": [
        "# define the optimizer and compile the model\n",
        "adam = optimizers.Adam(lr=lr, beta_1=beta_1, beta_2=beta_2, epsilon=epsilon)\n",
        "model.compile(optimizer='adam', loss='categorical_crossentropy', metrics=['accuracy'])\n",
        "\n",
        "# add early stopping\n",
        "monitor = EarlyStopping(monitor='val_loss', min_delta=1e-3, patience=5, verbose=1, mode='auto')\n"
      ],
      "execution_count": 0,
      "outputs": []
    },
    {
      "cell_type": "markdown",
      "metadata": {
        "id": "aAl6VN9ezDuG",
        "colab_type": "text"
      },
      "source": [
        "## 7. Train the Model"
      ]
    },
    {
      "cell_type": "code",
      "metadata": {
        "id": "ZwJmqzVnzDuG",
        "colab_type": "code",
        "colab": {
          "base_uri": "https://localhost:8080/",
          "height": 1000
        },
        "outputId": "7cf321d8-7ed4-4a31-89df-c7a8373ec2c6"
      },
      "source": [
        "# fits the model on batches with real-time data augmentation:\n",
        "train_generator = datagen.flow(x_train, y_train, batch_size=bs)\n",
        "val_generator = datagen.flow(x_train, y_train, batch_size=bs, subset='validation')\n",
        "\n",
        "\n",
        "# history = model.fit(x_train, y_train, batch_size=bs, epochs=epochs)\n",
        "\n",
        "\n",
        "history = model.fit_generator(train_generator, steps_per_epoch=steps_per_epoch, epochs=epochs,\n",
        "                              validation_data=val_generator,\n",
        "                              validation_steps=steps_per_epoch)\n"
      ],
      "execution_count": 123,
      "outputs": [
        {
          "output_type": "stream",
          "text": [
            "Epoch 1/80\n",
            " 9/10 [==========================>...] - ETA: 0s - loss: 2.4423 - acc: 0.1596Epoch 1/80\n",
            "10/10 [==============================] - 2s 185ms/step - loss: 2.4646 - acc: 0.1187\n",
            "10/10 [==============================] - 8s 795ms/step - loss: 2.4122 - acc: 0.1640 - val_loss: 2.4646 - val_acc: 0.1187\n",
            "Epoch 2/80\n",
            " 9/10 [==========================>...] - ETA: 0s - loss: 2.1362 - acc: 0.2154Epoch 1/80\n",
            "10/10 [==============================] - 1s 110ms/step - loss: 2.3632 - acc: 0.1274\n",
            "10/10 [==============================] - 5s 480ms/step - loss: 2.1339 - acc: 0.2118 - val_loss: 2.3632 - val_acc: 0.1274\n",
            "Epoch 3/80\n",
            " 9/10 [==========================>...] - ETA: 0s - loss: 2.0590 - acc: 0.2518Epoch 1/80\n",
            "10/10 [==============================] - 1s 110ms/step - loss: 2.3125 - acc: 0.1595\n",
            "10/10 [==============================] - 5s 490ms/step - loss: 2.0424 - acc: 0.2508 - val_loss: 2.3125 - val_acc: 0.1595\n",
            "Epoch 4/80\n",
            " 9/10 [==========================>...] - ETA: 0s - loss: 1.9529 - acc: 0.2748Epoch 1/80\n",
            "10/10 [==============================] - 1s 130ms/step - loss: 2.2880 - acc: 0.1722\n",
            "10/10 [==============================] - 5s 532ms/step - loss: 1.9577 - acc: 0.2747 - val_loss: 2.2880 - val_acc: 0.1722\n",
            "Epoch 5/80\n",
            " 9/10 [==========================>...] - ETA: 0s - loss: 1.8612 - acc: 0.3342Epoch 1/80\n",
            "10/10 [==============================] - 1s 111ms/step - loss: 2.2634 - acc: 0.1946\n",
            "10/10 [==============================] - 5s 477ms/step - loss: 1.8586 - acc: 0.3368 - val_loss: 2.2634 - val_acc: 0.1946\n",
            "Epoch 6/80\n",
            " 9/10 [==========================>...] - ETA: 0s - loss: 1.8716 - acc: 0.3165Epoch 1/80\n",
            "10/10 [==============================] - 1s 109ms/step - loss: 2.2221 - acc: 0.2490\n",
            "10/10 [==============================] - 5s 480ms/step - loss: 1.8684 - acc: 0.3193 - val_loss: 2.2221 - val_acc: 0.2490\n",
            "Epoch 7/80\n",
            " 9/10 [==========================>...] - ETA: 0s - loss: 1.8034 - acc: 0.3397Epoch 1/80\n",
            "10/10 [==============================] - 1s 106ms/step - loss: 2.1640 - acc: 0.2422\n",
            "10/10 [==============================] - 5s 469ms/step - loss: 1.8094 - acc: 0.3393 - val_loss: 2.1640 - val_acc: 0.2422\n",
            "Epoch 8/80\n",
            " 9/10 [==========================>...] - ETA: 0s - loss: 1.7475 - acc: 0.3741Epoch 1/80\n",
            "10/10 [==============================] - 1s 130ms/step - loss: 2.1133 - acc: 0.2675\n",
            "10/10 [==============================] - 5s 514ms/step - loss: 1.7608 - acc: 0.3686 - val_loss: 2.1133 - val_acc: 0.2675\n",
            "Epoch 9/80\n",
            " 9/10 [==========================>...] - ETA: 0s - loss: 1.7510 - acc: 0.3528Epoch 1/80\n",
            "10/10 [==============================] - 1s 107ms/step - loss: 2.0519 - acc: 0.3113\n",
            "10/10 [==============================] - 5s 468ms/step - loss: 1.7536 - acc: 0.3588 - val_loss: 2.0519 - val_acc: 0.3113\n",
            "Epoch 10/80\n",
            " 9/10 [==========================>...] - ETA: 0s - loss: 1.7060 - acc: 0.3845Epoch 1/80\n",
            "10/10 [==============================] - 1s 106ms/step - loss: 2.0834 - acc: 0.2636\n",
            "10/10 [==============================] - 5s 485ms/step - loss: 1.7098 - acc: 0.3867 - val_loss: 2.0834 - val_acc: 0.2636\n",
            "Epoch 11/80\n",
            " 9/10 [==========================>...] - ETA: 0s - loss: 1.6714 - acc: 0.3910Epoch 1/80\n",
            "10/10 [==============================] - 1s 108ms/step - loss: 2.0365 - acc: 0.2947\n",
            "10/10 [==============================] - 5s 471ms/step - loss: 1.6682 - acc: 0.3985 - val_loss: 2.0365 - val_acc: 0.2947\n",
            "Epoch 12/80\n",
            " 9/10 [==========================>...] - ETA: 0s - loss: 1.6657 - acc: 0.3998Epoch 1/80\n",
            "10/10 [==============================] - 1s 140ms/step - loss: 1.9928 - acc: 0.3482\n",
            "10/10 [==============================] - 5s 518ms/step - loss: 1.6606 - acc: 0.4013 - val_loss: 1.9928 - val_acc: 0.3482\n",
            "Epoch 13/80\n",
            " 9/10 [==========================>...] - ETA: 0s - loss: 1.6052 - acc: 0.4255Epoch 1/80\n",
            "10/10 [==============================] - 1s 108ms/step - loss: 1.9762 - acc: 0.3424\n",
            "10/10 [==============================] - 5s 470ms/step - loss: 1.6193 - acc: 0.4172 - val_loss: 1.9762 - val_acc: 0.3424\n",
            "Epoch 14/80\n",
            " 9/10 [==========================>...] - ETA: 0s - loss: 1.5930 - acc: 0.4220Epoch 1/80\n",
            "10/10 [==============================] - 1s 108ms/step - loss: 1.9246 - acc: 0.3356\n",
            "10/10 [==============================] - 5s 475ms/step - loss: 1.5907 - acc: 0.4220 - val_loss: 1.9246 - val_acc: 0.3356\n",
            "Epoch 15/80\n",
            " 9/10 [==========================>...] - ETA: 0s - loss: 1.5993 - acc: 0.4284Epoch 1/80\n",
            "10/10 [==============================] - 1s 109ms/step - loss: 1.8599 - acc: 0.3346\n",
            "10/10 [==============================] - 5s 465ms/step - loss: 1.5992 - acc: 0.4221 - val_loss: 1.8599 - val_acc: 0.3346\n",
            "Epoch 16/80\n",
            " 9/10 [==========================>...] - ETA: 0s - loss: 1.5456 - acc: 0.4557Epoch 1/80\n",
            "10/10 [==============================] - 1s 133ms/step - loss: 1.8185 - acc: 0.3580\n",
            "10/10 [==============================] - 5s 515ms/step - loss: 1.5451 - acc: 0.4546 - val_loss: 1.8185 - val_acc: 0.3580\n",
            "Epoch 17/80\n",
            " 9/10 [==========================>...] - ETA: 0s - loss: 1.5523 - acc: 0.4379Epoch 1/80\n",
            "10/10 [==============================] - 1s 109ms/step - loss: 1.8928 - acc: 0.3385\n",
            "10/10 [==============================] - 5s 478ms/step - loss: 1.5526 - acc: 0.4403 - val_loss: 1.8928 - val_acc: 0.3385\n",
            "Epoch 18/80\n",
            " 9/10 [==========================>...] - ETA: 0s - loss: 1.5276 - acc: 0.4654Epoch 1/80\n",
            "10/10 [==============================] - 1s 106ms/step - loss: 1.8384 - acc: 0.3356\n",
            "10/10 [==============================] - 5s 473ms/step - loss: 1.5213 - acc: 0.4729 - val_loss: 1.8384 - val_acc: 0.3356\n",
            "Epoch 19/80\n",
            " 9/10 [==========================>...] - ETA: 0s - loss: 1.5371 - acc: 0.4583Epoch 1/80\n",
            "10/10 [==============================] - 1s 109ms/step - loss: 1.8871 - acc: 0.3317\n",
            "10/10 [==============================] - 5s 472ms/step - loss: 1.5303 - acc: 0.4578 - val_loss: 1.8871 - val_acc: 0.3317\n",
            "Epoch 20/80\n",
            " 9/10 [==========================>...] - ETA: 0s - loss: 1.4715 - acc: 0.4601Epoch 1/80\n",
            "10/10 [==============================] - 1s 127ms/step - loss: 1.7487 - acc: 0.3551\n",
            "10/10 [==============================] - 5s 514ms/step - loss: 1.4760 - acc: 0.4578 - val_loss: 1.7487 - val_acc: 0.3551\n",
            "Epoch 21/80\n",
            " 9/10 [==========================>...] - ETA: 0s - loss: 1.4764 - acc: 0.4645Epoch 1/80\n",
            "10/10 [==============================] - 1s 107ms/step - loss: 1.7555 - acc: 0.3726\n",
            "10/10 [==============================] - 5s 473ms/step - loss: 1.4608 - acc: 0.4729 - val_loss: 1.7555 - val_acc: 0.3726\n",
            "Epoch 22/80\n",
            " 9/10 [==========================>...] - ETA: 0s - loss: 1.4583 - acc: 0.4882Epoch 1/80\n",
            "10/10 [==============================] - 1s 108ms/step - loss: 1.6736 - acc: 0.3998\n",
            "10/10 [==============================] - 5s 470ms/step - loss: 1.4561 - acc: 0.4830 - val_loss: 1.6736 - val_acc: 0.3998\n",
            "Epoch 23/80\n",
            " 9/10 [==========================>...] - ETA: 0s - loss: 1.4460 - acc: 0.4792Epoch 1/80\n",
            "10/10 [==============================] - 1s 108ms/step - loss: 1.6626 - acc: 0.4027\n",
            "10/10 [==============================] - 5s 483ms/step - loss: 1.4536 - acc: 0.4742 - val_loss: 1.6626 - val_acc: 0.4027\n",
            "Epoch 24/80\n",
            " 9/10 [==========================>...] - ETA: 0s - loss: 1.4323 - acc: 0.4891Epoch 1/80\n",
            "10/10 [==============================] - 1s 128ms/step - loss: 1.6033 - acc: 0.4261\n",
            "10/10 [==============================] - 5s 500ms/step - loss: 1.4361 - acc: 0.4886 - val_loss: 1.6033 - val_acc: 0.4261\n",
            "Epoch 25/80\n",
            " 9/10 [==========================>...] - ETA: 0s - loss: 1.4211 - acc: 0.4938Epoch 1/80\n",
            "10/10 [==============================] - 1s 107ms/step - loss: 1.5529 - acc: 0.4309\n",
            "10/10 [==============================] - 5s 465ms/step - loss: 1.4086 - acc: 0.5000 - val_loss: 1.5529 - val_acc: 0.4309\n",
            "Epoch 26/80\n",
            " 9/10 [==========================>...] - ETA: 0s - loss: 1.4386 - acc: 0.4947Epoch 1/80\n",
            "10/10 [==============================] - 1s 107ms/step - loss: 1.5495 - acc: 0.4416\n",
            "10/10 [==============================] - 5s 471ms/step - loss: 1.4368 - acc: 0.4889 - val_loss: 1.5495 - val_acc: 0.4416\n",
            "Epoch 27/80\n",
            " 9/10 [==========================>...] - ETA: 0s - loss: 1.4017 - acc: 0.5098Epoch 1/80\n",
            "10/10 [==============================] - 1s 109ms/step - loss: 1.7913 - acc: 0.3560\n",
            "10/10 [==============================] - 5s 471ms/step - loss: 1.4029 - acc: 0.5096 - val_loss: 1.7913 - val_acc: 0.3560\n",
            "Epoch 28/80\n",
            " 9/10 [==========================>...] - ETA: 0s - loss: 1.3881 - acc: 0.4973Epoch 1/80\n",
            "10/10 [==============================] - 1s 129ms/step - loss: 1.7470 - acc: 0.3531\n",
            "10/10 [==============================] - 5s 511ms/step - loss: 1.3909 - acc: 0.4944 - val_loss: 1.7470 - val_acc: 0.3531\n",
            "Epoch 29/80\n",
            " 9/10 [==========================>...] - ETA: 0s - loss: 1.3787 - acc: 0.5133Epoch 1/80\n",
            "10/10 [==============================] - 1s 109ms/step - loss: 1.7908 - acc: 0.3745\n",
            "10/10 [==============================] - 5s 482ms/step - loss: 1.3870 - acc: 0.5072 - val_loss: 1.7908 - val_acc: 0.3745\n",
            "Epoch 30/80\n",
            " 9/10 [==========================>...] - ETA: 0s - loss: 1.3593 - acc: 0.5222Epoch 1/80\n",
            "10/10 [==============================] - 1s 107ms/step - loss: 1.4776 - acc: 0.4630\n",
            "10/10 [==============================] - 5s 483ms/step - loss: 1.3616 - acc: 0.5207 - val_loss: 1.4776 - val_acc: 0.4630\n",
            "Epoch 31/80\n",
            " 9/10 [==========================>...] - ETA: 0s - loss: 1.3451 - acc: 0.5293Epoch 1/80\n",
            "10/10 [==============================] - 1s 107ms/step - loss: 1.5486 - acc: 0.4270\n",
            "10/10 [==============================] - 5s 465ms/step - loss: 1.3267 - acc: 0.5390 - val_loss: 1.5486 - val_acc: 0.4270\n",
            "Epoch 32/80\n",
            " 9/10 [==========================>...] - ETA: 0s - loss: 1.3338 - acc: 0.5301Epoch 1/80\n",
            "10/10 [==============================] - 1s 129ms/step - loss: 1.4666 - acc: 0.4650\n",
            "10/10 [==============================] - 5s 505ms/step - loss: 1.3396 - acc: 0.5303 - val_loss: 1.4666 - val_acc: 0.4650\n",
            "Epoch 33/80\n",
            " 9/10 [==========================>...] - ETA: 0s - loss: 1.3746 - acc: 0.5045Epoch 1/80\n",
            "10/10 [==============================] - 1s 107ms/step - loss: 1.5076 - acc: 0.4708\n",
            "10/10 [==============================] - 5s 464ms/step - loss: 1.3698 - acc: 0.5016 - val_loss: 1.5076 - val_acc: 0.4708\n",
            "Epoch 34/80\n",
            " 9/10 [==========================>...] - ETA: 0s - loss: 1.3253 - acc: 0.5293Epoch 1/80\n",
            "10/10 [==============================] - 1s 108ms/step - loss: 1.5981 - acc: 0.4261\n",
            "10/10 [==============================] - 5s 475ms/step - loss: 1.3143 - acc: 0.5311 - val_loss: 1.5981 - val_acc: 0.4261\n",
            "Epoch 35/80\n",
            " 9/10 [==========================>...] - ETA: 0s - loss: 1.2893 - acc: 0.5452Epoch 1/80\n",
            "10/10 [==============================] - 1s 109ms/step - loss: 1.4460 - acc: 0.4961\n",
            "10/10 [==============================] - 5s 480ms/step - loss: 1.2915 - acc: 0.5454 - val_loss: 1.4460 - val_acc: 0.4961\n",
            "Epoch 36/80\n",
            " 9/10 [==========================>...] - ETA: 0s - loss: 1.3330 - acc: 0.5148Epoch 1/80\n",
            "10/10 [==============================] - 1s 142ms/step - loss: 1.6325 - acc: 0.4504\n",
            "10/10 [==============================] - 5s 527ms/step - loss: 1.3405 - acc: 0.5111 - val_loss: 1.6325 - val_acc: 0.4504\n",
            "Epoch 37/80\n",
            " 9/10 [==========================>...] - ETA: 0s - loss: 1.3050 - acc: 0.5236Epoch 1/80\n",
            "10/10 [==============================] - 1s 109ms/step - loss: 1.4099 - acc: 0.5068\n",
            "10/10 [==============================] - 5s 475ms/step - loss: 1.3059 - acc: 0.5252 - val_loss: 1.4099 - val_acc: 0.5068\n",
            "Epoch 38/80\n",
            " 9/10 [==========================>...] - ETA: 0s - loss: 1.3129 - acc: 0.5452Epoch 1/80\n",
            "10/10 [==============================] - 1s 110ms/step - loss: 1.5233 - acc: 0.4728\n",
            "10/10 [==============================] - 5s 479ms/step - loss: 1.3080 - acc: 0.5486 - val_loss: 1.5233 - val_acc: 0.4728\n",
            "Epoch 39/80\n",
            " 9/10 [==========================>...] - ETA: 0s - loss: 1.2197 - acc: 0.5651Epoch 1/80\n",
            "10/10 [==============================] - 1s 105ms/step - loss: 1.4654 - acc: 0.4679\n",
            "10/10 [==============================] - 5s 480ms/step - loss: 1.2317 - acc: 0.5625 - val_loss: 1.4654 - val_acc: 0.4679\n",
            "Epoch 40/80\n",
            " 9/10 [==========================>...] - ETA: 0s - loss: 1.2678 - acc: 0.5534Epoch 1/80\n",
            "10/10 [==============================] - 1s 118ms/step - loss: 1.6623 - acc: 0.3930\n",
            "10/10 [==============================] - 5s 501ms/step - loss: 1.2815 - acc: 0.5446 - val_loss: 1.6623 - val_acc: 0.3930\n",
            "Epoch 41/80\n",
            " 9/10 [==========================>...] - ETA: 0s - loss: 1.2173 - acc: 0.5674Epoch 1/80\n",
            "10/10 [==============================] - 1s 106ms/step - loss: 1.6428 - acc: 0.4232\n",
            "10/10 [==============================] - 5s 475ms/step - loss: 1.2210 - acc: 0.5653 - val_loss: 1.6428 - val_acc: 0.4232\n",
            "Epoch 42/80\n",
            " 9/10 [==========================>...] - ETA: 0s - loss: 1.2662 - acc: 0.5498Epoch 1/80\n",
            "10/10 [==============================] - 1s 108ms/step - loss: 1.5525 - acc: 0.4484\n",
            "10/10 [==============================] - 5s 478ms/step - loss: 1.2569 - acc: 0.5560 - val_loss: 1.5525 - val_acc: 0.4484\n",
            "Epoch 43/80\n",
            " 9/10 [==========================>...] - ETA: 0s - loss: 1.2145 - acc: 0.5532Epoch 1/80\n",
            "10/10 [==============================] - 1s 108ms/step - loss: 1.4084 - acc: 0.4981\n",
            "10/10 [==============================] - 5s 484ms/step - loss: 1.2172 - acc: 0.5565 - val_loss: 1.4084 - val_acc: 0.4981\n",
            "Epoch 44/80\n",
            " 9/10 [==========================>...] - ETA: 0s - loss: 1.2451 - acc: 0.5488Epoch 1/80\n",
            "10/10 [==============================] - 1s 131ms/step - loss: 1.6162 - acc: 0.4173\n",
            "10/10 [==============================] - 5s 507ms/step - loss: 1.2444 - acc: 0.5446 - val_loss: 1.6162 - val_acc: 0.4173\n",
            "Epoch 45/80\n",
            " 9/10 [==========================>...] - ETA: 0s - loss: 1.2225 - acc: 0.5543Epoch 1/80\n",
            "10/10 [==============================] - 1s 107ms/step - loss: 1.5571 - acc: 0.4426\n",
            "10/10 [==============================] - 5s 475ms/step - loss: 1.2196 - acc: 0.5552 - val_loss: 1.5571 - val_acc: 0.4426\n",
            "Epoch 46/80\n",
            " 9/10 [==========================>...] - ETA: 0s - loss: 1.1462 - acc: 0.5990Epoch 1/80\n",
            "10/10 [==============================] - 1s 111ms/step - loss: 1.5027 - acc: 0.4484\n",
            "10/10 [==============================] - 5s 484ms/step - loss: 1.1537 - acc: 0.5961 - val_loss: 1.5027 - val_acc: 0.4484\n",
            "Epoch 47/80\n",
            " 9/10 [==========================>...] - ETA: 0s - loss: 1.1889 - acc: 0.5661Epoch 1/80\n",
            "10/10 [==============================] - 1s 108ms/step - loss: 1.5520 - acc: 0.4465\n",
            "10/10 [==============================] - 5s 472ms/step - loss: 1.1963 - acc: 0.5576 - val_loss: 1.5520 - val_acc: 0.4465\n",
            "Epoch 48/80\n",
            " 9/10 [==========================>...] - ETA: 0s - loss: 1.1937 - acc: 0.5851Epoch 1/80\n",
            "10/10 [==============================] - 1s 123ms/step - loss: 1.6236 - acc: 0.4562\n",
            "10/10 [==============================] - 5s 505ms/step - loss: 1.1915 - acc: 0.5844 - val_loss: 1.6236 - val_acc: 0.4562\n",
            "Epoch 49/80\n",
            " 9/10 [==========================>...] - ETA: 0s - loss: 1.1976 - acc: 0.5833Epoch 1/80\n",
            "10/10 [==============================] - 1s 108ms/step - loss: 1.3910 - acc: 0.5019\n",
            "10/10 [==============================] - 5s 487ms/step - loss: 1.1850 - acc: 0.5828 - val_loss: 1.3910 - val_acc: 0.5019\n",
            "Epoch 50/80\n",
            " 9/10 [==========================>...] - ETA: 0s - loss: 1.1453 - acc: 0.6064Epoch 1/80\n",
            "10/10 [==============================] - 1s 106ms/step - loss: 1.2470 - acc: 0.5603\n",
            "10/10 [==============================] - 5s 472ms/step - loss: 1.1364 - acc: 0.6107 - val_loss: 1.2470 - val_acc: 0.5603\n",
            "Epoch 51/80\n",
            " 9/10 [==========================>...] - ETA: 0s - loss: 1.1855 - acc: 0.5922Epoch 1/80\n",
            "10/10 [==============================] - 1s 106ms/step - loss: 1.3702 - acc: 0.5136\n",
            "10/10 [==============================] - 5s 474ms/step - loss: 1.1807 - acc: 0.5892 - val_loss: 1.3702 - val_acc: 0.5136\n",
            "Epoch 52/80\n",
            " 9/10 [==========================>...] - ETA: 0s - loss: 1.1439 - acc: 0.5993Epoch 1/80\n",
            "10/10 [==============================] - 1s 131ms/step - loss: 1.3801 - acc: 0.4971\n",
            "10/10 [==============================] - 5s 509ms/step - loss: 1.1459 - acc: 0.5982 - val_loss: 1.3801 - val_acc: 0.4971\n",
            "Epoch 53/80\n",
            " 9/10 [==========================>...] - ETA: 0s - loss: 1.1273 - acc: 0.6020Epoch 1/80\n",
            "10/10 [==============================] - 1s 107ms/step - loss: 1.4199 - acc: 0.4922\n",
            "10/10 [==============================] - 5s 483ms/step - loss: 1.1275 - acc: 0.5987 - val_loss: 1.4199 - val_acc: 0.4922\n",
            "Epoch 54/80\n",
            " 9/10 [==========================>...] - ETA: 0s - loss: 1.1555 - acc: 0.5861Epoch 1/80\n",
            "10/10 [==============================] - 1s 109ms/step - loss: 1.4590 - acc: 0.5029\n",
            "10/10 [==============================] - 5s 470ms/step - loss: 1.1626 - acc: 0.5812 - val_loss: 1.4590 - val_acc: 0.5029\n",
            "Epoch 55/80\n",
            " 9/10 [==========================>...] - ETA: 0s - loss: 1.1498 - acc: 0.5972Epoch 1/80\n",
            "10/10 [==============================] - 1s 109ms/step - loss: 1.1843 - acc: 0.5798\n",
            "10/10 [==============================] - 5s 488ms/step - loss: 1.1501 - acc: 0.5977 - val_loss: 1.1843 - val_acc: 0.5798\n",
            "Epoch 56/80\n",
            " 9/10 [==========================>...] - ETA: 0s - loss: 1.1229 - acc: 0.5904Epoch 1/80\n",
            "10/10 [==============================] - 1s 148ms/step - loss: 1.4387 - acc: 0.4951\n",
            "10/10 [==============================] - 5s 524ms/step - loss: 1.1311 - acc: 0.5901 - val_loss: 1.4387 - val_acc: 0.4951\n",
            "Epoch 57/80\n",
            " 9/10 [==========================>...] - ETA: 0s - loss: 1.1346 - acc: 0.6002Epoch 1/80\n",
            "10/10 [==============================] - 1s 107ms/step - loss: 1.1853 - acc: 0.5593\n",
            "10/10 [==============================] - 5s 479ms/step - loss: 1.1239 - acc: 0.6019 - val_loss: 1.1853 - val_acc: 0.5593\n",
            "Epoch 58/80\n",
            " 9/10 [==========================>...] - ETA: 0s - loss: 1.0932 - acc: 0.6215Epoch 1/80\n",
            "10/10 [==============================] - 1s 106ms/step - loss: 1.2588 - acc: 0.5477\n",
            "10/10 [==============================] - 5s 467ms/step - loss: 1.0749 - acc: 0.6299 - val_loss: 1.2588 - val_acc: 0.5477\n",
            "Epoch 59/80\n",
            " 9/10 [==========================>...] - ETA: 0s - loss: 1.1227 - acc: 0.5913Epoch 1/80\n",
            "10/10 [==============================] - 1s 109ms/step - loss: 1.3487 - acc: 0.5049\n",
            "10/10 [==============================] - 5s 476ms/step - loss: 1.1228 - acc: 0.5947 - val_loss: 1.3487 - val_acc: 0.5049\n",
            "Epoch 60/80\n",
            " 9/10 [==========================>...] - ETA: 0s - loss: 1.0770 - acc: 0.6179Epoch 1/80\n",
            "10/10 [==============================] - 1s 139ms/step - loss: 1.2107 - acc: 0.5788\n",
            "10/10 [==============================] - 5s 525ms/step - loss: 1.0912 - acc: 0.6099 - val_loss: 1.2107 - val_acc: 0.5788\n",
            "Epoch 61/80\n",
            " 9/10 [==========================>...] - ETA: 0s - loss: 1.0941 - acc: 0.6161Epoch 1/80\n",
            "10/10 [==============================] - 1s 106ms/step - loss: 1.2225 - acc: 0.5691\n",
            "10/10 [==============================] - 5s 469ms/step - loss: 1.0885 - acc: 0.6177 - val_loss: 1.2225 - val_acc: 0.5691\n",
            "Epoch 62/80\n",
            " 9/10 [==========================>...] - ETA: 0s - loss: 1.0862 - acc: 0.6179Epoch 1/80\n",
            "10/10 [==============================] - 1s 108ms/step - loss: 1.0616 - acc: 0.6187\n",
            "10/10 [==============================] - 5s 475ms/step - loss: 1.0828 - acc: 0.6178 - val_loss: 1.0616 - val_acc: 0.6187\n",
            "Epoch 63/80\n",
            " 9/10 [==========================>...] - ETA: 0s - loss: 1.0808 - acc: 0.6294Epoch 1/80\n",
            "10/10 [==============================] - 1s 108ms/step - loss: 1.1212 - acc: 0.5924\n",
            "10/10 [==============================] - 5s 471ms/step - loss: 1.0827 - acc: 0.6226 - val_loss: 1.1212 - val_acc: 0.5924\n",
            "Epoch 64/80\n",
            " 9/10 [==========================>...] - ETA: 0s - loss: 1.0568 - acc: 0.6090Epoch 1/80\n",
            "10/10 [==============================] - 1s 119ms/step - loss: 1.4444 - acc: 0.4844\n",
            "10/10 [==============================] - 5s 505ms/step - loss: 1.0541 - acc: 0.6123 - val_loss: 1.4444 - val_acc: 0.4844\n",
            "Epoch 65/80\n",
            " 9/10 [==========================>...] - ETA: 0s - loss: 1.0109 - acc: 0.6383Epoch 1/80\n",
            "10/10 [==============================] - 1s 109ms/step - loss: 1.1293 - acc: 0.6051\n",
            "10/10 [==============================] - 5s 464ms/step - loss: 0.9997 - acc: 0.6453 - val_loss: 1.1293 - val_acc: 0.6051\n",
            "Epoch 66/80\n",
            " 9/10 [==========================>...] - ETA: 0s - loss: 1.0623 - acc: 0.6294Epoch 1/80\n",
            "10/10 [==============================] - 1s 106ms/step - loss: 1.4206 - acc: 0.5195\n",
            "10/10 [==============================] - 5s 476ms/step - loss: 1.0646 - acc: 0.6266 - val_loss: 1.4206 - val_acc: 0.5195\n",
            "Epoch 67/80\n",
            " 9/10 [==========================>...] - ETA: 0s - loss: 1.0628 - acc: 0.6372Epoch 1/80\n",
            "10/10 [==============================] - 1s 106ms/step - loss: 1.4878 - acc: 0.4698\n",
            "10/10 [==============================] - 5s 475ms/step - loss: 1.0499 - acc: 0.6354 - val_loss: 1.4878 - val_acc: 0.4698\n",
            "Epoch 68/80\n",
            " 9/10 [==========================>...] - ETA: 0s - loss: 1.0248 - acc: 0.6303Epoch 1/80\n",
            "10/10 [==============================] - 1s 138ms/step - loss: 1.0400 - acc: 0.5963\n",
            "10/10 [==============================] - 5s 524ms/step - loss: 1.0162 - acc: 0.6377 - val_loss: 1.0400 - val_acc: 0.5963\n",
            "Epoch 69/80\n",
            " 9/10 [==========================>...] - ETA: 0s - loss: 1.0168 - acc: 0.6436Epoch 1/80\n",
            "10/10 [==============================] - 1s 108ms/step - loss: 1.2687 - acc: 0.5535\n",
            "10/10 [==============================] - 5s 481ms/step - loss: 1.0139 - acc: 0.6457 - val_loss: 1.2687 - val_acc: 0.5535\n",
            "Epoch 70/80\n",
            " 9/10 [==========================>...] - ETA: 0s - loss: 0.9955 - acc: 0.6410Epoch 1/80\n",
            "10/10 [==============================] - 1s 108ms/step - loss: 1.0649 - acc: 0.6070\n",
            "10/10 [==============================] - 5s 483ms/step - loss: 0.9972 - acc: 0.6425 - val_loss: 1.0649 - val_acc: 0.6070\n",
            "Epoch 71/80\n",
            " 9/10 [==========================>...] - ETA: 0s - loss: 1.0288 - acc: 0.6560Epoch 1/80\n",
            "10/10 [==============================] - 1s 105ms/step - loss: 1.0477 - acc: 0.6741\n",
            "10/10 [==============================] - 5s 476ms/step - loss: 1.0288 - acc: 0.6513 - val_loss: 1.0477 - val_acc: 0.6741\n",
            "Epoch 72/80\n",
            " 9/10 [==========================>...] - ETA: 0s - loss: 1.0199 - acc: 0.6332Epoch 1/80\n",
            "10/10 [==============================] - 1s 126ms/step - loss: 1.0633 - acc: 0.6226\n",
            "10/10 [==============================] - 5s 503ms/step - loss: 1.0178 - acc: 0.6347 - val_loss: 1.0633 - val_acc: 0.6226\n",
            "Epoch 73/80\n",
            " 9/10 [==========================>...] - ETA: 0s - loss: 0.9846 - acc: 0.6569Epoch 1/80\n",
            "10/10 [==============================] - 1s 109ms/step - loss: 1.1762 - acc: 0.5467\n",
            "10/10 [==============================] - 5s 472ms/step - loss: 0.9797 - acc: 0.6568 - val_loss: 1.1762 - val_acc: 0.5467\n",
            "Epoch 74/80\n",
            " 9/10 [==========================>...] - ETA: 0s - loss: 0.9592 - acc: 0.6631Epoch 1/80\n",
            "10/10 [==============================] - 1s 108ms/step - loss: 1.3025 - acc: 0.5379\n",
            "10/10 [==============================] - 5s 472ms/step - loss: 0.9635 - acc: 0.6576 - val_loss: 1.3025 - val_acc: 0.5379\n",
            "Epoch 75/80\n",
            " 9/10 [==========================>...] - ETA: 0s - loss: 0.9710 - acc: 0.6613Epoch 1/80\n",
            "10/10 [==============================] - 1s 108ms/step - loss: 1.1426 - acc: 0.5963\n",
            "10/10 [==============================] - 5s 477ms/step - loss: 0.9725 - acc: 0.6592 - val_loss: 1.1426 - val_acc: 0.5963\n",
            "Epoch 76/80\n",
            " 9/10 [==========================>...] - ETA: 0s - loss: 0.9697 - acc: 0.6639Epoch 1/80\n",
            "10/10 [==============================] - 1s 129ms/step - loss: 1.0816 - acc: 0.6080\n",
            "10/10 [==============================] - 5s 500ms/step - loss: 0.9713 - acc: 0.6615 - val_loss: 1.0816 - val_acc: 0.6080\n",
            "Epoch 77/80\n",
            " 9/10 [==========================>...] - ETA: 0s - loss: 0.9663 - acc: 0.6551Epoch 1/80\n",
            "10/10 [==============================] - 1s 107ms/step - loss: 1.1555 - acc: 0.5944\n",
            "10/10 [==============================] - 5s 477ms/step - loss: 0.9681 - acc: 0.6561 - val_loss: 1.1555 - val_acc: 0.5944\n",
            "Epoch 78/80\n",
            " 9/10 [==========================>...] - ETA: 0s - loss: 0.9960 - acc: 0.6480Epoch 1/80\n",
            "10/10 [==============================] - 1s 108ms/step - loss: 1.1953 - acc: 0.5924\n",
            "10/10 [==============================] - 5s 474ms/step - loss: 0.9972 - acc: 0.6489 - val_loss: 1.1953 - val_acc: 0.5924\n",
            "Epoch 79/80\n",
            " 9/10 [==========================>...] - ETA: 0s - loss: 0.9481 - acc: 0.6567Epoch 1/80\n",
            "10/10 [==============================] - 1s 107ms/step - loss: 1.0368 - acc: 0.6167\n",
            "10/10 [==============================] - 5s 472ms/step - loss: 0.9613 - acc: 0.6575 - val_loss: 1.0368 - val_acc: 0.6167\n",
            "Epoch 80/80\n",
            " 9/10 [==========================>...] - ETA: 0s - loss: 0.9511 - acc: 0.6719Epoch 1/80\n",
            "10/10 [==============================] - 1s 127ms/step - loss: 0.9841 - acc: 0.6459\n",
            "10/10 [==============================] - 5s 506ms/step - loss: 0.9543 - acc: 0.6712 - val_loss: 0.9841 - val_acc: 0.6459\n"
          ],
          "name": "stdout"
        }
      ]
    },
    {
      "cell_type": "markdown",
      "metadata": {
        "id": "LG-FNFO4zDuI",
        "colab_type": "text"
      },
      "source": [
        "## 8. Visualize"
      ]
    },
    {
      "cell_type": "code",
      "metadata": {
        "id": "IJlTxPl1zDuI",
        "colab_type": "code",
        "colab": {
          "base_uri": "https://localhost:8080/",
          "height": 295
        },
        "outputId": "bf5ccba5-06a7-4d65-ea8c-cd00ca14f23b"
      },
      "source": [
        "# plot train and validation loss \n",
        "plt.plot(history.history['loss'])\n",
        "plt.plot(history.history['val_loss'])\n",
        "plt.title('model loss')\n",
        "plt.ylabel('loss')\n",
        "plt.xlabel('epoch')\n",
        "plt.legend(['train', 'validation'], loc='upper left')\n",
        "plt.show(); plt.close()\n"
      ],
      "execution_count": 124,
      "outputs": [
        {
          "output_type": "display_data",
          "data": {
            "image/png": "[encoded data removed]",
            "text/plain": [
              "<Figure size 432x288 with 1 Axes>"
            ]
          },
          "metadata": {
            "tags": []
          }
        }
      ]
    },
    {
      "cell_type": "markdown",
      "metadata": {
        "id": "kcK7BcxdzDuK",
        "colab_type": "text"
      },
      "source": [
        "## 9. Model Evaluation"
      ]
    },
    {
      "cell_type": "code",
      "metadata": {
        "scrolled": true,
        "id": "FowmsPJhzDuK",
        "colab_type": "code",
        "colab": {}
      },
      "source": [
        "# import tensorflow\n",
        "# y_pred = model.predict(tensorflow.cast(x_test, tensorflow.float32))\n",
        "# test_loss, test_acc = model.evaluate(x_test, y_test)\n",
        "\n",
        "# # Print results\n",
        "# print('test loss:', test_loss)\n",
        "# print('test accuracy:', test_acc)\n",
        "\n",
        "# # Confusion Matrix\n",
        "# cm = confusion_matrix(np.argmax(y_test,axis=1), np.argmax(np.round(y_pred),axis=1))\n",
        "# labels = ['class ' + str(i) for i in range(num_of_clss)] \n",
        "# plot_confusion_matrix(cm,labels,title='Confusion Matrix',normalize=True)\n"
      ],
      "execution_count": 0,
      "outputs": []
    },
    {
      "cell_type": "code",
      "metadata": {
        "id": "MX5cDL37zDuM",
        "colab_type": "code",
        "colab": {}
      },
      "source": [
        "# len((x_train)/512)"
      ],
      "execution_count": 0,
      "outputs": []
    },
    {
      "cell_type": "code",
      "metadata": {
        "id": "-sQ08xitzDuO",
        "colab_type": "code",
        "colab": {}
      },
      "source": [
        ""
      ],
      "execution_count": 0,
      "outputs": []
    },
    {
      "cell_type": "code",
      "metadata": {
        "id": "PPmyvAM4zDuP",
        "colab_type": "code",
        "colab": {}
      },
      "source": [
        ""
      ],
      "execution_count": 0,
      "outputs": []
    }
  ]
}