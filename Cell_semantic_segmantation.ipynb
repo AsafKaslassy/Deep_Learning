{
 "cells": [
  {
   "cell_type": "markdown",
   "metadata": {},
   "source": [
    "# Tutorial No. 3"
   ]
  },
  {
   "cell_type": "markdown",
   "metadata": {},
   "source": [
    "## 1. Import Packages"
   ]
  },
  {
   "cell_type": "code",
   "execution_count": 12,
   "metadata": {},
   "outputs": [],
   "source": [
    "from keras.models import Sequential,Model\n",
    "from keras.layers import Dropout, BatchNormalization\n",
    "from keras.layers import Input, Conv2D, Conv2DTranspose, MaxPooling2D, UpSampling2D\n",
    "\n",
    "from keras.layers import Softmax\n",
    "from keras.utils import to_categorical\n",
    "from keras.callbacks import EarlyStopping\n",
    "from keras import optimizers\n",
    "\n",
    "import numpy as np\n",
    "import cv2 \n",
    "import os\n",
    "from glob import glob\n",
    "import matplotlib.pyplot as plt\n"
   ]
  },
  {
   "cell_type": "markdown",
   "metadata": {},
   "source": [
    "## 2. Load Data"
   ]
  },
  {
   "cell_type": "code",
   "execution_count": 13,
   "metadata": {},
   "outputs": [
    {
     "name": "stdout",
     "output_type": "stream",
     "text": [
      "x_train shape: (704, 64, 80, 1)\n",
      "x_test shape: (256, 64, 80, 1)\n",
      "y_train shape: (704, 64, 80, 3)\n",
      "y_test shape: (256, 64, 80, 3)\n"
     ]
    }
   ],
   "source": [
    "def read_data(directory):\n",
    "# =============================================================================\n",
    "#  This function gets a directory name and returns all images in it concatenated \n",
    "#  to each other\n",
    "#  https://drive.google.com/drive/folders/1tZvSNCaH4TNmOgCJ-eBHyPRU9s7IBV20?usp=sharing \n",
    "# =============================================================================    \n",
    "    data_list = glob(os.path.join('.','Data' + directory + '*.png'))\n",
    "    data = np.asarray([cv2.imread(img,0) for img in data_list])\n",
    "    return data\n",
    "\n",
    "# read data from directory\n",
    "x_train = read_data('\\Train\\Raw\\\\')\n",
    "y_train = read_data('\\Train\\Seg\\\\')\n",
    "x_test = read_data('\\Test\\Raw\\\\')\n",
    "y_test = read_data('\\Test\\Seg\\\\')\n",
    "\n",
    "# Change the shape to (n_clss)x(Height)x(Weight)x(channels)\n",
    "x_train = (np.expand_dims(x_train, axis=3)).astype('float')\n",
    "x_test =  (np.expand_dims(x_test, axis=3)).astype('float')\n",
    "\n",
    "# Change labels to categorical\n",
    "y_train = (to_categorical(y_train)).astype('float')\n",
    "y_test = (to_categorical(y_test)).astype('float')\n",
    "\n",
    "print('x_train shape:', x_train.shape)\n",
    "print('x_test shape:', x_test.shape)\n",
    "print('y_train shape:', y_train.shape)\n",
    "print('y_test shape:', y_test.shape)\n"
   ]
  },
  {
   "cell_type": "code",
   "execution_count": 14,
   "metadata": {},
   "outputs": [
    {
     "data": {
      "text/plain": [
       "(-0.5, 79.5, 63.5, -0.5)"
      ]
     },
     "execution_count": 14,
     "metadata": {},
     "output_type": "execute_result"
    },
    {
     "data": {
      "image/png": "[encoded data removed]",
      "text/plain": [
       "<Figure size 432x288 with 6 Axes>"
      ]
     },
     "metadata": {
      "needs_background": "light"
     },
     "output_type": "display_data"
    }
   ],
   "source": [
    "# visualize some images and their segmentation labels\n",
    "plt.subplot(2,3,1)\n",
    "plt.imshow(np.squeeze(x_train[150,:,:]))\n",
    "plt.axis('off')\n",
    "\n",
    "plt.subplot(2,3,2)\n",
    "plt.imshow(np.squeeze(x_train[295,:,:]))\n",
    "plt.axis('off')\n",
    "\n",
    "plt.subplot(2,3,3)\n",
    "plt.imshow(np.squeeze(x_train[650,:,:]))\n",
    "plt.axis('off')\n",
    "\n",
    "plt.subplot(2,3,4)\n",
    "plt.imshow(y_train[150,:,:])\n",
    "plt.axis('off')\n",
    "\n",
    "plt.subplot(2,3,5)\n",
    "plt.imshow(y_train[295,:,:])\n",
    "plt.axis('off')\n",
    "\n",
    "plt.subplot(2,3,6)\n",
    "plt.imshow(y_train[650,:,:])\n",
    "plt.axis('off')\n"
   ]
  },
  {
   "cell_type": "markdown",
   "metadata": {},
   "source": [
    "## 3. Define Parameters "
   ]
  },
  {
   "cell_type": "code",
   "execution_count": 15,
   "metadata": {},
   "outputs": [],
   "source": [
    "num_of_clss = 3           # number of classes\n",
    "lr =          1e-4        # learning rate \n",
    "beta_1 =      0.9         # beta 1 - for adam optimizer\n",
    "beta_2 =      0.95        # beta 2 - for adam optimizer\n",
    "epsilon =     1e-7        # epsilon - for adam optimizer\n",
    "epochs =      50          # number of epochs\n",
    "bs =          32          # batch size\n",
    "dp =          0.5         # dropout probability\n"
   ]
  },
  {
   "cell_type": "markdown",
   "metadata": {},
   "source": [
    "## 4. Build CNN Model"
   ]
  },
  {
   "cell_type": "code",
   "execution_count": 24,
   "metadata": {},
   "outputs": [],
   "source": [
    "inp = Input(shape = (x_train.shape[1],x_train.shape[2],x_train.shape[3]))\n",
    "\n",
    "# First conv block\n",
    "x = Conv2D(64, (3, 3), strides=(1, 1), padding='same', activation = 'relu')(inp)\n",
    "x = BatchNormalization()(x)\n",
    "x = MaxPooling2D((2, 2))(x)\n",
    "\n",
    "# Second conv block\n",
    "x = Conv2D(32, (3, 3), strides=(1, 1), padding='same', activation = 'relu')(x)\n",
    "x = Conv2D(32, (3, 3), strides=(1, 1), padding='same', activation = 'relu')(x)\n",
    "x = BatchNormalization()(x)\n",
    "x = MaxPooling2D((2, 2))(x)\n",
    "x = Dropout(dp)(x)\n",
    "\n",
    "# Third conv block\n",
    "x = Conv2D(16, (3, 3), strides=(1, 1), padding='same', activation = 'relu')(x)\n",
    "x = Conv2D(16, (3, 3), strides=(1, 1), padding='same', activation = 'relu')(x)\n",
    "x = Conv2D(16, (3, 3), strides=(1, 1), padding='same', activation = 'relu')(x)\n",
    "x = BatchNormalization()(x)\n",
    "x = MaxPooling2D((2, 2))(x)\n",
    "\n",
    "# DECONV AND UNPOOLING\n",
    "\n",
    "x = Conv2DTranspose(16, (3, 3), strides=(1, 1), padding='same', activation = 'relu')(x)\n",
    "x = UpSampling2D((2, 2))(x)\n",
    "\n",
    "x = Conv2DTranspose(32, (3, 3), strides=(1, 1), padding='same', activation = 'relu')(x)\n",
    "x = UpSampling2D((2, 2))(x)\n",
    "\n",
    "x = Conv2DTranspose(64, (3, 3), strides=(1, 1), padding='same', activation = 'relu')(x)\n",
    "x = UpSampling2D((2, 2))(x)\n",
    "\n",
    "out = Conv2DTranspose(num_of_clss, (3, 3), strides=(1, 1), padding='same', activation = 'softmax')(x)\n",
    "\n",
    "\n",
    "model = Model(inp,out)\n",
    "\n",
    "\n"
   ]
  },
  {
   "cell_type": "markdown",
   "metadata": {},
   "source": [
    "##  5. Compile the Model"
   ]
  },
  {
   "cell_type": "code",
   "execution_count": 25,
   "metadata": {},
   "outputs": [],
   "source": [
    "# define the optimizer and compile the model\n",
    "adam = optimizers.Adam(lr=lr, beta_1=beta_1, beta_2=beta_2, epsilon=epsilon)\n",
    "model.compile(optimizer=adam, loss='categorical_crossentropy', metrics=['accuracy'])\n",
    "\n",
    "# add early stopping\n",
    "monitor = EarlyStopping(monitor='val_loss', min_delta=1e-4, patience=5, verbose=1, mode='auto')\n"
   ]
  },
  {
   "cell_type": "markdown",
   "metadata": {},
   "source": [
    "## 6. Train the Model"
   ]
  },
  {
   "cell_type": "code",
   "execution_count": 26,
   "metadata": {},
   "outputs": [
    {
     "name": "stdout",
     "output_type": "stream",
     "text": [
      "WARNING:tensorflow:From C:\\Users\\1lab504\\.conda\\envs\\tensorflow\\lib\\site-packages\\tensorflow_core\\python\\ops\\math_grad.py:1424: where (from tensorflow.python.ops.array_ops) is deprecated and will be removed in a future version.\n",
      "Instructions for updating:\n",
      "Use tf.where in 2.0, which has the same broadcast rule as np.where\n",
      "WARNING:tensorflow:From C:\\Users\\1lab504\\.conda\\envs\\tensorflow\\lib\\site-packages\\keras\\backend\\tensorflow_backend.py:986: The name tf.assign_add is deprecated. Please use tf.compat.v1.assign_add instead.\n",
      "\n",
      "WARNING:tensorflow:From C:\\Users\\1lab504\\.conda\\envs\\tensorflow\\lib\\site-packages\\keras\\backend\\tensorflow_backend.py:973: The name tf.assign is deprecated. Please use tf.compat.v1.assign instead.\n",
      "\n",
      "Train on 492 samples, validate on 212 samples\n",
      "Epoch 1/50\n",
      "492/492 [==============================] - 6s 11ms/step - loss: 1.0504 - acc: 0.6704 - val_loss: 0.9455 - val_acc: 0.9322\n",
      "Epoch 2/50\n",
      "492/492 [==============================] - 0s 759us/step - loss: 0.8252 - acc: 0.9482 - val_loss: 0.8255 - val_acc: 0.9389\n",
      "Epoch 3/50\n",
      "492/492 [==============================] - 0s 782us/step - loss: 0.5226 - acc: 0.9503 - val_loss: 0.6464 - val_acc: 0.9390\n",
      "Epoch 4/50\n",
      "492/492 [==============================] - 0s 775us/step - loss: 0.2232 - acc: 0.9509 - val_loss: 0.3287 - val_acc: 0.9388\n",
      "Epoch 5/50\n",
      "492/492 [==============================] - 0s 779us/step - loss: 0.1503 - acc: 0.9537 - val_loss: 0.2135 - val_acc: 0.9411\n",
      "Epoch 6/50\n",
      "492/492 [==============================] - 0s 775us/step - loss: 0.1263 - acc: 0.9582 - val_loss: 0.1825 - val_acc: 0.9505\n",
      "Epoch 7/50\n",
      "492/492 [==============================] - 0s 745us/step - loss: 0.1129 - acc: 0.9631 - val_loss: 0.1632 - val_acc: 0.9551\n",
      "Epoch 8/50\n",
      "492/492 [==============================] - 0s 752us/step - loss: 0.1027 - acc: 0.9662 - val_loss: 0.1402 - val_acc: 0.9578\n",
      "Epoch 9/50\n",
      "492/492 [==============================] - 0s 782us/step - loss: 0.0939 - acc: 0.9687 - val_loss: 0.1226 - val_acc: 0.9605\n",
      "Epoch 10/50\n",
      "492/492 [==============================] - 0s 777us/step - loss: 0.0880 - acc: 0.9705 - val_loss: 0.1141 - val_acc: 0.9625\n",
      "Epoch 11/50\n",
      "492/492 [==============================] - 0s 780us/step - loss: 0.0837 - acc: 0.9722 - val_loss: 0.1085 - val_acc: 0.9641\n",
      "Epoch 12/50\n",
      "492/492 [==============================] - 0s 769us/step - loss: 0.0816 - acc: 0.9731 - val_loss: 0.1083 - val_acc: 0.9647\n",
      "Epoch 13/50\n",
      "492/492 [==============================] - 0s 784us/step - loss: 0.0803 - acc: 0.9738 - val_loss: 0.1049 - val_acc: 0.9659\n",
      "Epoch 14/50\n",
      "492/492 [==============================] - 0s 748us/step - loss: 0.0773 - acc: 0.9744 - val_loss: 0.1029 - val_acc: 0.9666\n",
      "Epoch 15/50\n",
      "492/492 [==============================] - 0s 781us/step - loss: 0.0756 - acc: 0.9750 - val_loss: 0.1031 - val_acc: 0.9666\n",
      "Epoch 16/50\n",
      "492/492 [==============================] - 0s 779us/step - loss: 0.0744 - acc: 0.9755 - val_loss: 0.1002 - val_acc: 0.9679\n",
      "Epoch 17/50\n",
      "492/492 [==============================] - 0s 799us/step - loss: 0.0738 - acc: 0.9754 - val_loss: 0.0988 - val_acc: 0.9681\n",
      "Epoch 18/50\n",
      "492/492 [==============================] - 0s 778us/step - loss: 0.0725 - acc: 0.9760 - val_loss: 0.0984 - val_acc: 0.9682\n",
      "Epoch 19/50\n",
      "492/492 [==============================] - 0s 757us/step - loss: 0.0712 - acc: 0.9763 - val_loss: 0.0968 - val_acc: 0.9689\n",
      "Epoch 20/50\n",
      "492/492 [==============================] - 0s 779us/step - loss: 0.0707 - acc: 0.9766 - val_loss: 0.0990 - val_acc: 0.9682\n",
      "Epoch 21/50\n",
      "492/492 [==============================] - 0s 775us/step - loss: 0.0691 - acc: 0.9771 - val_loss: 0.0953 - val_acc: 0.9694\n",
      "Epoch 22/50\n",
      "492/492 [==============================] - 0s 755us/step - loss: 0.0696 - acc: 0.9769 - val_loss: 0.0966 - val_acc: 0.9692\n",
      "Epoch 23/50\n",
      "492/492 [==============================] - 0s 778us/step - loss: 0.0681 - acc: 0.9771 - val_loss: 0.0938 - val_acc: 0.9697\n",
      "Epoch 24/50\n",
      "492/492 [==============================] - 0s 779us/step - loss: 0.0675 - acc: 0.9774 - val_loss: 0.0938 - val_acc: 0.9697\n",
      "Epoch 25/50\n",
      "492/492 [==============================] - 0s 771us/step - loss: 0.0673 - acc: 0.9774 - val_loss: 0.0939 - val_acc: 0.9697\n",
      "Epoch 26/50\n",
      "492/492 [==============================] - 0s 753us/step - loss: 0.0658 - acc: 0.9778 - val_loss: 0.0941 - val_acc: 0.9698\n",
      "Epoch 27/50\n",
      "492/492 [==============================] - 0s 779us/step - loss: 0.0653 - acc: 0.9782 - val_loss: 0.0931 - val_acc: 0.9699\n",
      "Epoch 28/50\n",
      "492/492 [==============================] - 0s 748us/step - loss: 0.0659 - acc: 0.9777 - val_loss: 0.0924 - val_acc: 0.9701\n",
      "Epoch 29/50\n",
      "492/492 [==============================] - 0s 773us/step - loss: 0.0653 - acc: 0.9780 - val_loss: 0.0920 - val_acc: 0.9702\n",
      "Epoch 30/50\n",
      "492/492 [==============================] - 0s 782us/step - loss: 0.0641 - acc: 0.9784 - val_loss: 0.0933 - val_acc: 0.9699\n",
      "Epoch 31/50\n",
      "492/492 [==============================] - 0s 771us/step - loss: 0.0638 - acc: 0.9783 - val_loss: 0.0919 - val_acc: 0.9702\n",
      "Epoch 32/50\n",
      "492/492 [==============================] - 0s 750us/step - loss: 0.0642 - acc: 0.9785 - val_loss: 0.0909 - val_acc: 0.9706\n",
      "Epoch 33/50\n",
      "492/492 [==============================] - 0s 784us/step - loss: 0.0638 - acc: 0.9782 - val_loss: 0.0908 - val_acc: 0.9704\n",
      "Epoch 34/50\n",
      "492/492 [==============================] - 0s 748us/step - loss: 0.0623 - acc: 0.9788 - val_loss: 0.0895 - val_acc: 0.9708\n",
      "Epoch 35/50\n",
      "492/492 [==============================] - 0s 770us/step - loss: 0.0636 - acc: 0.9784 - val_loss: 0.0906 - val_acc: 0.9704\n",
      "Epoch 36/50\n",
      "492/492 [==============================] - 0s 782us/step - loss: 0.0621 - acc: 0.9788 - val_loss: 0.0912 - val_acc: 0.9705\n",
      "Epoch 37/50\n",
      "492/492 [==============================] - 0s 749us/step - loss: 0.0622 - acc: 0.9789 - val_loss: 0.0907 - val_acc: 0.9707\n",
      "Epoch 38/50\n",
      "492/492 [==============================] - 0s 773us/step - loss: 0.0627 - acc: 0.9785 - val_loss: 0.0882 - val_acc: 0.9710\n",
      "Epoch 39/50\n",
      "492/492 [==============================] - 0s 816us/step - loss: 0.0617 - acc: 0.9788 - val_loss: 0.0875 - val_acc: 0.9711\n",
      "Epoch 40/50\n",
      "492/492 [==============================] - 0s 770us/step - loss: 0.0614 - acc: 0.9789 - val_loss: 0.0866 - val_acc: 0.9713\n",
      "Epoch 41/50\n",
      "492/492 [==============================] - 0s 780us/step - loss: 0.0614 - acc: 0.9789 - val_loss: 0.0868 - val_acc: 0.9713\n",
      "Epoch 42/50\n",
      "492/492 [==============================] - 0s 753us/step - loss: 0.0604 - acc: 0.9793 - val_loss: 0.0869 - val_acc: 0.9714\n",
      "Epoch 43/50\n",
      "492/492 [==============================] - 0s 791us/step - loss: 0.0607 - acc: 0.9790 - val_loss: 0.0871 - val_acc: 0.9715\n",
      "Epoch 44/50\n",
      "492/492 [==============================] - 0s 762us/step - loss: 0.0607 - acc: 0.9791 - val_loss: 0.0856 - val_acc: 0.9715\n",
      "Epoch 45/50\n",
      "492/492 [==============================] - 0s 781us/step - loss: 0.0604 - acc: 0.9793 - val_loss: 0.0858 - val_acc: 0.9716\n",
      "Epoch 46/50\n",
      "492/492 [==============================] - 0s 740us/step - loss: 0.0589 - acc: 0.9796 - val_loss: 0.0864 - val_acc: 0.9717\n",
      "Epoch 47/50\n",
      "492/492 [==============================] - 0s 781us/step - loss: 0.0593 - acc: 0.9795 - val_loss: 0.0853 - val_acc: 0.9714\n",
      "Epoch 48/50\n",
      "492/492 [==============================] - 0s 783us/step - loss: 0.0593 - acc: 0.9795 - val_loss: 0.0845 - val_acc: 0.9717\n",
      "Epoch 49/50\n",
      "492/492 [==============================] - 0s 774us/step - loss: 0.0589 - acc: 0.9795 - val_loss: 0.0852 - val_acc: 0.9718\n",
      "Epoch 50/50\n",
      "492/492 [==============================] - 0s 775us/step - loss: 0.0587 - acc: 0.9795 - val_loss: 0.0832 - val_acc: 0.9718\n"
     ]
    }
   ],
   "source": [
    "history = model.fit(x_train, y_train, validation_split=0.3, epochs=epochs, batch_size=bs)"
   ]
  },
  {
   "cell_type": "markdown",
   "metadata": {},
   "source": [
    "## 7. Visualize"
   ]
  },
  {
   "cell_type": "code",
   "execution_count": 27,
   "metadata": {},
   "outputs": [
    {
     "data": {
      "image/png": "[encoded data removed]",
      "text/plain": [
       "<Figure size 432x288 with 1 Axes>"
      ]
     },
     "metadata": {
      "needs_background": "light"
     },
     "output_type": "display_data"
    }
   ],
   "source": [
    "# plot train and validation loss \n",
    "plt.plot(history.history['loss'])\n",
    "plt.plot(history.history['val_loss'])\n",
    "plt.title('model loss')\n",
    "plt.ylabel('loss')\n",
    "plt.xlabel('epoch')\n",
    "plt.legend(['train', 'validation'], loc='upper left')\n",
    "plt.show(); plt.close()\n"
   ]
  },
  {
   "cell_type": "markdown",
   "metadata": {},
   "source": [
    "## 8. Model Evaluation"
   ]
  },
  {
   "cell_type": "code",
   "execution_count": 28,
   "metadata": {},
   "outputs": [
    {
     "name": "stdout",
     "output_type": "stream",
     "text": [
      "256/256 [==============================] - 0s 299us/step\n",
      "test loss: 0.08348353020846844\n",
      "test accuracy: 0.9719970673322678\n"
     ]
    },
    {
     "data": {
      "text/plain": [
       "(-0.5, 79.5, 63.5, -0.5)"
      ]
     },
     "execution_count": 28,
     "metadata": {},
     "output_type": "execute_result"
    },
    {
     "data": {
      "image/png": "[encoded data removed]",
      "text/plain": [
       "<Figure size 432x288 with 9 Axes>"
      ]
     },
     "metadata": {
      "needs_background": "light"
     },
     "output_type": "display_data"
    }
   ],
   "source": [
    "y_pred = model.predict(x_test)\n",
    "test_loss, test_acc = model.evaluate(x_test, y_test)\n",
    "\n",
    "# Print results\n",
    "print('test loss:', test_loss)\n",
    "print('test accuracy:', test_acc)\n",
    "\n",
    "# visualize some images with their prediction and true labels\n",
    "plt.subplot(3,3,1)\n",
    "plt.imshow(np.squeeze(x_test[10,:,:]))\n",
    "plt.axis('off')\n",
    "\n",
    "plt.subplot(3,3,2)\n",
    "plt.imshow(np.squeeze(x_test[20,:,:]))\n",
    "plt.axis('off')\n",
    "\n",
    "plt.subplot(3,3,3)\n",
    "plt.imshow(np.squeeze(x_test[30,:,:]))\n",
    "plt.axis('off')\n",
    "\n",
    "plt.subplot(3,3,4)\n",
    "plt.imshow(y_pred[10,:,:])\n",
    "plt.axis('off')\n",
    "\n",
    "plt.subplot(3,3,5)\n",
    "plt.imshow(y_pred[20,:,:])\n",
    "plt.axis('off')\n",
    "\n",
    "plt.subplot(3,3,6)\n",
    "plt.imshow(y_pred[30,:,:])\n",
    "plt.axis('off')\n",
    "\n",
    "plt.subplot(3,3,7)\n",
    "plt.imshow(y_test[10,:,:])\n",
    "plt.axis('off')\n",
    "\n",
    "plt.subplot(3,3,8)\n",
    "plt.imshow(y_test[20,:,:])\n",
    "plt.axis('off')\n",
    "\n",
    "plt.subplot(3,3,9)\n",
    "plt.imshow(y_test[30,:,:])\n",
    "plt.axis('off')"
   ]
  },
  {
   "cell_type": "code",
   "execution_count": null,
   "metadata": {},
   "outputs": [],
   "source": []
  }
 ],
 "metadata": {
  "kernelspec": {
   "display_name": "Python 3",
   "language": "python",
   "name": "python3"
  },
  "language_info": {
   "codemirror_mode": {
    "name": "ipython",
    "version": 3
   },
   "file_extension": ".py",
   "mimetype": "text/x-python",
   "name": "python",
   "nbconvert_exporter": "python",
   "pygments_lexer": "ipython3",
   "version": "3.7.4"
  }
 },
 "nbformat": 4,
 "nbformat_minor": 2
}
